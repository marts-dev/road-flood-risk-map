{
 "cells": [
  {
   "cell_type": "code",
   "execution_count": 1,
   "metadata": {},
   "outputs": [],
   "source": [
    "import leafmap"
   ]
  },
  {
   "cell_type": "code",
   "execution_count": 2,
   "metadata": {},
   "outputs": [
    {
     "data": {
      "application/vnd.jupyter.widget-view+json": {
       "model_id": "2a8c66485b6143b89fd334ed42de0904",
       "version_major": 2,
       "version_minor": 0
      },
      "text/plain": [
       "Map(center=[20, 0], controls=(ZoomControl(options=['position', 'zoom_in_text', 'zoom_in_title', 'zoom_out_text…"
      ]
     },
     "execution_count": 2,
     "metadata": {},
     "output_type": "execute_result"
    }
   ],
   "source": [
    "m = leafmap.Map()\n",
    "m"
   ]
  },
  {
   "cell_type": "code",
   "execution_count": 3,
   "metadata": {},
   "outputs": [],
   "source": [
    "m.add_basemap(\"Satellite\")"
   ]
  },
  {
   "cell_type": "code",
   "execution_count": 4,
   "metadata": {},
   "outputs": [],
   "source": [
    "import osmnx as ox\n",
    "\n",
    "# Get a road network for a city or area\n",
    "G = ox.graph_from_place(\"Angeles, Philippines\", network_type=\"drive\")  # options: 'all', 'walk', 'bike', 'drive'\n",
    "\n",
    "# Convert to GeoDataFrame (edges = roads)\n",
    "edges = ox.graph_to_gdfs(G, nodes=False)\n",
    "edges.to_file('roads.shp')"
   ]
  },
  {
   "cell_type": "code",
   "execution_count": 5,
   "metadata": {},
   "outputs": [],
   "source": [
    "import rasterio\n",
    "from rasterio.mask import mask\n",
    "import geopandas as gpd\n",
    "\n",
    "img_tiff = \"https://storage.googleapis.com/dpad-bucket/D2/smi/D2_SMI_2020-03-22T053207_2020-03-22T235959_L1C_COG.tif\"\n",
    "# This will be used for retrieving the metadata of the image(e.g. Bounds)\n",
    "\n",
    "with rasterio.open(img_tiff) as src:\n",
    "    bounds = src.bounds\n",
    "    crs = src.crs\n",
    "\n",
    "    roads = gpd.read_file('roads.shp')\n",
    "\n",
    "    out_image, out_transform = mask(src, roads.geometry, invert=False, crop=True, nodata=0)\n",
    "    out_meta = src.meta.copy()\n",
    "    out_meta.update({\n",
    "        \"driver\": \"GTiff\",\n",
    "        \"height\": out_image.shape[1],\n",
    "        \"width\": out_image.shape[2],\n",
    "        \"transform\": out_transform,\n",
    "        \"crs\": crs,\n",
    "        \"nodata\": 0,\n",
    "    })\n",
    "with rasterio.open('roads_masked.tif', 'w', **out_meta) as dest:\n",
    "    dest.write(out_image)"
   ]
  },
  {
   "cell_type": "code",
   "execution_count": 6,
   "metadata": {},
   "outputs": [],
   "source": [
    "from localtileserver import TileClient, get_leaflet_tile_layer\n",
    "\n",
    "client = TileClient('roads_masked.tif')\n",
    "tile_layer = get_leaflet_tile_layer(client)\n",
    "m.add_layer(tile_layer)"
   ]
  },
  {
   "cell_type": "code",
   "execution_count": 7,
   "metadata": {},
   "outputs": [],
   "source": [
    "# Plot using leafmap\n",
    "# m = leafmap.Map(center=[52.37, 4.89], zoom=12)\n",
    "m.add_gdf(edges, layer_name=\"Roads\", style={\n",
    "  \"color\": \"blue\",       # Line color\n",
    "  \"weight\": 2,           # Line thickness\n",
    "  \"opacity\": 0.8         # Line opacity\n",
    "})"
   ]
  },
  {
   "cell_type": "code",
   "execution_count": null,
   "metadata": {},
   "outputs": [],
   "source": []
  }
 ],
 "metadata": {
  "kernelspec": {
   "display_name": "dev",
   "language": "python",
   "name": "python3"
  },
  "language_info": {
   "codemirror_mode": {
    "name": "ipython",
    "version": 3
   },
   "file_extension": ".py",
   "mimetype": "text/x-python",
   "name": "python",
   "nbconvert_exporter": "python",
   "pygments_lexer": "ipython3",
   "version": "3.12.8"
  },
  "orig_nbformat": 4
 },
 "nbformat": 4,
 "nbformat_minor": 2
}
